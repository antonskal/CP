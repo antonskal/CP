{
 "cells": [
  {
   "cell_type": "code",
   "execution_count": 2,
   "metadata": {},
   "outputs": [],
   "source": [
    "from itertools import groupby\n",
    "from more_itertools import set_partitions,powerset"
   ]
  },
  {
   "cell_type": "code",
   "execution_count": 19,
   "metadata": {},
   "outputs": [],
   "source": [
    "n = int(input())\n",
    "fences = []\n",
    "for i in range(n):\n",
    "    fences.append(input().replace(\" \",\"\"))\n",
    " "
   ]
  },
  {
   "cell_type": "code",
   "execution_count": 27,
   "metadata": {},
   "outputs": [],
   "source": [
    "fences = ['1r','3r','3r','2r','1b','5b']"
   ]
  },
  {
   "cell_type": "code",
   "execution_count": 43,
   "metadata": {},
   "outputs": [
    {
     "data": {
      "text/plain": [
       "[('1r', '3r', '1b', '5b'),\n",
       " ('1r', '2r', '1b', '5b'),\n",
       " ('3r', '3r', '1b', '5b'),\n",
       " ('3r', '2r', '1b', '5b')]"
      ]
     },
     "execution_count": 43,
     "metadata": {},
     "output_type": "execute_result"
    }
   ],
   "source": [
    "#These can be rearranged into alteranting sorted order\n",
    "remaining_sets = list(k for k,_ in groupby(filter(lambda x: alternating(x), powerset(fences))))\n",
    "remaining_sets\n",
    "#And then partitionted into a triangle 3 sides and checked for degeneracy or...\n",
    "#Triplet sums"
   ]
  },
  {
   "cell_type": "code",
   "execution_count": 37,
   "metadata": {},
   "outputs": [
    {
     "data": {
      "text/plain": [
       "[['1r', '2r', '3r', '3r'],\n",
       " ['1b', '1r', '3r', '3r'],\n",
       " ['1r', '3r', '3r', '5b'],\n",
       " ['1b', '1r', '2r', '3r'],\n",
       " ['1r', '2r', '3r', '5b'],\n",
       " ['1b', '1r', '2r', '3r'],\n",
       " ['1r', '2r', '3r', '5b'],\n",
       " ['1b', '2r', '3r', '3r'],\n",
       " ['2r', '3r', '3r', '5b'],\n",
       " ['1b', '1r', '2r', '3r', '3r'],\n",
       " ['1r', '2r', '3r', '3r', '5b'],\n",
       " ['1b', '1r', '3r', '3r', '5b'],\n",
       " ['1b', '1r', '2r', '3r', '5b'],\n",
       " ['1b', '2r', '3r', '3r', '5b'],\n",
       " ['1b', '1r', '2r', '3r', '3r', '5b']]"
      ]
     },
     "execution_count": 37,
     "metadata": {},
     "output_type": "execute_result"
    }
   ],
   "source": [
    "#Not neccessary to check these.... \n",
    "ell = [sorted(item) for item in filter(lambda x: not alternating(x) and len(x) > 3, powerset(fences))]\n",
    "list(k for k,_ in groupby(ell))"
   ]
  },
  {
   "cell_type": "code",
   "execution_count": 4,
   "metadata": {},
   "outputs": [],
   "source": [
    "def degenerate(a,b,c):\n",
    "        count = [0,0,0]\n",
    "        for i in a:\n",
    "                count[0] += int(i[0])\n",
    "        for i in b:\n",
    "                count[1] += int(i[0])\n",
    "        for i in c:\n",
    "                count[2] += int(i[0])\n",
    "        count.sort()\n",
    "        if count[0] + count[1] > count[2]:\n",
    "                return count[0] * count[1] * count[2]\n",
    "        else:\n",
    "                return 0"
   ]
  },
  {
   "cell_type": "code",
   "execution_count": 25,
   "metadata": {},
   "outputs": [],
   "source": [
    "def alternating(fences):\n",
    "        count_reds = 0\n",
    "        count_blues = 0\n",
    "        for i in fences:\n",
    "                if i[1] == 'r':\n",
    "                        count_reds+=1\n",
    "                else:\n",
    "                        count_blues+=1\n",
    "        return count_reds == count_blues and count_reds + count_blues >= 4\n"
   ]
  },
  {
   "cell_type": "code",
   "execution_count": 22,
   "metadata": {},
   "outputs": [
    {
     "name": "stdout",
     "output_type": "stream",
     "text": [
      "1r,3r,3r 5b,\n",
      "1r,3r 3r,5b,\n",
      "1r,3r,3r 5b,\n",
      "1r 3r,3r,5b,\n",
      "3r,1r 3r,5b,\n",
      "3r,3r,1r 5b,\n"
     ]
    }
   ],
   "source": [
    "for triangle in set_partitions(['1r', '3r', '3r', '5b'],3):\n",
    "    for side in triangle:\n",
    "      print(' '.join(side).strip(','),end = ',')\n",
    "    print()\n"
   ]
  },
  {
   "cell_type": "code",
   "execution_count": 24,
   "metadata": {},
   "outputs": [
    {
     "name": "stdout",
     "output_type": "stream",
     "text": [
      "138\n",
      "165\n",
      "138\n",
      "435\n",
      "345\n",
      "336\n"
     ]
    }
   ],
   "source": [
    "for triangle in set_partitions(['1r', '3r', '3r', '5b'],3):\n",
    "    for side in triangle:\n",
    "        cnt = 0\n",
    "        for length in side:\n",
    "            cnt += int(length[0])\n",
    "        print(cnt,end = '')\n",
    "    print()\n"
   ]
  }
 ],
 "metadata": {
  "kernelspec": {
   "display_name": "Python 3",
   "language": "python",
   "name": "python3"
  },
  "language_info": {
   "codemirror_mode": {
    "name": "ipython",
    "version": 3
   },
   "file_extension": ".py",
   "mimetype": "text/x-python",
   "name": "python",
   "nbconvert_exporter": "python",
   "pygments_lexer": "ipython3",
   "version": "3.10.12"
  }
 },
 "nbformat": 4,
 "nbformat_minor": 2
}
