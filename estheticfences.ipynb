{
 "cells": [
  {
   "cell_type": "code",
   "execution_count": 90,
   "metadata": {},
   "outputs": [],
   "source": [
    "from itertools import groupby\n",
    "from more_itertools import set_partitions,powerset"
   ]
  },
  {
   "cell_type": "code",
   "execution_count": 19,
   "metadata": {},
   "outputs": [],
   "source": [
    "n = int(input())\n",
    "fences = []\n",
    "for i in range(n):\n",
    "    fences.append(input().replace(\" \",\"\"))\n",
    " "
   ]
  },
  {
   "cell_type": "code",
   "execution_count": 94,
   "metadata": {},
   "outputs": [
    {
     "data": {
      "text/plain": [
       "[['1r', '3r', '3r', '5b'],\n",
       " ['1b', '1r', '3r', '3r'],\n",
       " ['1r', '2b', '3r', '3r'],\n",
       " ['1b', '3r', '3r', '5b'],\n",
       " ['2b', '3r', '3r', '5b'],\n",
       " ['1b', '2b', '3r', '3r'],\n",
       " ['1b', '1r', '3r', '5b'],\n",
       " ['1r', '2b', '3r', '5b'],\n",
       " ['1b', '1r', '2b', '3r'],\n",
       " ['1b', '2b', '3r', '5b'],\n",
       " ['1b', '1r', '3r', '5b'],\n",
       " ['1r', '2b', '3r', '5b'],\n",
       " ['1b', '1r', '2b', '3r'],\n",
       " ['1b', '2b', '3r', '5b'],\n",
       " ['1b', '1r', '2b', '5b'],\n",
       " ['1b', '1r', '3r', '3r', '5b'],\n",
       " ['1r', '2b', '3r', '3r', '5b'],\n",
       " ['1b', '1r', '2b', '3r', '3r'],\n",
       " ['1b', '2b', '3r', '3r', '5b'],\n",
       " ['1b', '1r', '2b', '3r', '5b'],\n",
       " ['1b', '1r', '2b', '3r', '3r', '5b']]"
      ]
     },
     "execution_count": 94,
     "metadata": {},
     "output_type": "execute_result"
    }
   ],
   "source": [
    "#\n",
    "ell = [sorted(item) for item in filter(lambda x: len(x) > 3, powerset(fences))]\n",
    "list(k for k,_ in groupby(ell))"
   ]
  },
  {
   "cell_type": "code",
   "execution_count": 113,
   "metadata": {},
   "outputs": [
    {
     "name": "stdout",
     "output_type": "stream",
     "text": [
      "[['1r'], ['3r'], ['3r', '5b']]\n",
      "[['1r'], ['3r', '3r'], ['5b']]\n",
      "[['1r'], ['3r'], ['3r', '5b']]\n",
      "[['1r', '3r'], ['3r'], ['5b']]\n",
      "[['3r'], ['1r', '3r'], ['5b']]\n",
      "[['3r'], ['3r'], ['1r', '5b']]\n"
     ]
    }
   ],
   "source": [
    "for triangle in set_partitions(['1r', '3r', '3r', '5b'],3):\n",
    "    #for side in triangle:\n",
    "      #print(', '.join(side).strip(','),end = ',')\n",
    "    #print()\n",
    "    print(triangle)"
   ]
  }
 ],
 "metadata": {
  "kernelspec": {
   "display_name": "Python 3",
   "language": "python",
   "name": "python3"
  },
  "language_info": {
   "codemirror_mode": {
    "name": "ipython",
    "version": 3
   },
   "file_extension": ".py",
   "mimetype": "text/x-python",
   "name": "python",
   "nbconvert_exporter": "python",
   "pygments_lexer": "ipython3",
   "version": "3.10.12"
  }
 },
 "nbformat": 4,
 "nbformat_minor": 2
}
